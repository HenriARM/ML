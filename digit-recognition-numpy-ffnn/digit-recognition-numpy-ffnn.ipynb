{
  "nbformat": 4,
  "nbformat_minor": 0,
  "metadata": {
    "kernelspec": {
      "display_name": "Python 3",
      "language": "python",
      "name": "python3"
    },
    "language_info": {
      "codemirror_mode": {
        "name": "ipython",
        "version": 3
      },
      "file_extension": ".py",
      "mimetype": "text/x-python",
      "name": "python",
      "nbconvert_exporter": "python",
      "pygments_lexer": "ipython3",
      "version": "3.7.2"
    },
    "colab": {
      "name": "digit-recognition-numpy-ffnn.ipynb",
      "provenance": [],
      "collapsed_sections": [],
      "include_colab_link": true
    }
  },
  "cells": [
    {
      "cell_type": "markdown",
      "metadata": {
        "id": "view-in-github",
        "colab_type": "text"
      },
      "source": [
        "<a href=\"https://colab.research.google.com/github/HenriARM/ML/blob/master/digit-recognition-numpy-ffnn/digit-recognition-numpy-ffnn.ipynb\" target=\"_parent\"><img src=\"https://colab.research.google.com/assets/colab-badge.svg\" alt=\"Open In Colab\"/></a>"
      ]
    },
    {
      "cell_type": "code",
      "metadata": {
        "id": "5vUYqDa8DGc2",
        "colab_type": "code",
        "colab": {}
      },
      "source": [
        "import numpy\n",
        "# for the sigmoid function expit()\n",
        "import scipy.special\n",
        "import matplotlib.pyplot\n",
        "# ensure the plots are inside this notebook, not in an external window\n",
        "%matplotlib inline"
      ],
      "execution_count": 0,
      "outputs": []
    },
    {
      "cell_type": "code",
      "metadata": {
        "id": "QyZHL5QWDGc8",
        "colab_type": "code",
        "colab": {}
      },
      "source": [
        "class Network:\n",
        "    \n",
        "    def __init__(self, input_nodes, hidden_nodes, output_nodes, learning_rate):\n",
        "        \n",
        "        self.inodes = input_nodes\n",
        "        self.hnodes = hidden_nodes\n",
        "        self.onodes = output_nodes\n",
        "        \n",
        "        # wih - input-hidden layers weight matrice[hidden_nodes][input_nodes]\n",
        "        # who - hidden-output layers weight matrice\n",
        "        # wih[i,j] - weight of connection between hidden layer's i-th node and input layer's j-th node\n",
        "        # to create initial weights, good approach is to give them all 1/√(number of incoming links)\n",
        "        self.wih = numpy.random.normal(0.0, pow(self.inodes, -0.5), (self.hnodes, self.inodes))\n",
        "        self.who = numpy.random.normal(0.0, pow(self.hnodes, -0.5), (self.onodes, self.hnodes))\n",
        "\n",
        "        # learning rate\n",
        "        self.lr = learning_rate\n",
        "        \n",
        "        # activation function is the sigmoid function\n",
        "        ## S(x)={{1}/{1+e^{-x}}}\n",
        "        self.activation_function = lambda x: scipy.special.expit(x)\n",
        "        pass\n",
        "\n",
        "    \n",
        "   \n",
        "    def train(self, inputs_list, targets_list):\n",
        "        # convert inputs list to 2d array\n",
        "        inputs = numpy.array(inputs_list, ndmin=2).T\n",
        "        targets = numpy.array(targets_list, ndmin=2).T\n",
        "        \n",
        "        # do same thing as test method\n",
        "        # calculate signals into hidden layer\n",
        "        hidden_inputs = numpy.dot(self.wih, inputs)\n",
        "        hidden_outputs = self.activation_function(hidden_inputs)\n",
        "        \n",
        "        # calculate signals into final output layer\n",
        "        final_inputs = numpy.dot(self.who, hidden_outputs)\n",
        "        final_outputs = self.activation_function(final_inputs)\n",
        "        \n",
        "        # output layer error = target value - final_output\n",
        "        output_errors = targets - final_outputs\n",
        "        # hidden layer error is the output_errors, split by weights, recombined at hidden nodes\n",
        "        hidden_errors = numpy.dot(self.who.T, output_errors) \n",
        "        \n",
        "        # update the weights\n",
        "        self.who += self.lr * numpy.dot((output_errors * final_outputs * (1.0 - final_outputs)), numpy.transpose(hidden_outputs))\n",
        "        self.wih += self.lr * numpy.dot((hidden_errors * hidden_outputs * (1.0 - hidden_outputs)), numpy.transpose(inputs))\n",
        "        \n",
        "        pass\n",
        "\n",
        "    \n",
        "    # test the neural network\n",
        "    def test(self, inputs_list):\n",
        "        \n",
        "        # this line converts a python list to a numpy array.\n",
        "        # by default it will have dimensions [list_size, undefined]. \n",
        "        # by setting ndmin=2, it forces the dimensions to be [list_size, 1], \n",
        "        # which avoids any problems later using multiplication.\n",
        "        inputs = numpy.array(inputs_list, ndmin=2).T\n",
        "        \n",
        "        # calculate signals into hidden layer\n",
        "        hidden_inputs = numpy.dot(self.wih, inputs)\n",
        "        \n",
        "        # call activation function\n",
        "        hidden_outputs = self.activation_function(hidden_inputs)\n",
        "        \n",
        "        # calculate signals into final output layer\n",
        "        final_inputs = numpy.dot(self.who, hidden_outputs)\n",
        "        final_outputs = self.activation_function(final_inputs)\n",
        "        \n",
        "        return final_outputs"
      ],
      "execution_count": 0,
      "outputs": []
    },
    {
      "cell_type": "code",
      "metadata": {
        "id": "4W5KBY8EDGc_",
        "colab_type": "code",
        "colab": {}
      },
      "source": [
        "# Input data\n",
        "input_nodes = 784\n",
        "hidden_nodes = 200\n",
        "output_nodes = 10\n",
        "learning_rate = 0.1\n",
        "\n",
        "# create instance of neural network\n",
        "n = Network(input_nodes, hidden_nodes, output_nodes, learning_rate)"
      ],
      "execution_count": 0,
      "outputs": []
    },
    {
      "cell_type": "code",
      "metadata": {
        "id": "MjT6HdXiDGdC",
        "colab_type": "code",
        "colab": {}
      },
      "source": [
        "# load MNIST\n",
        "training_data_file = open(\"mnist_dataset/mnist_train.csv\", 'r')\n",
        "training_data_list = training_data_file.readlines()\n",
        "training_data_file.close()"
      ],
      "execution_count": 0,
      "outputs": []
    },
    {
      "cell_type": "code",
      "metadata": {
        "id": "bZ4qGwVxDGdF",
        "colab_type": "code",
        "colab": {},
        "outputId": "e60d6155-0cbc-4192-fb86-50d0c278a83e"
      },
      "source": [
        "len(training_data_list)"
      ],
      "execution_count": 0,
      "outputs": [
        {
          "output_type": "execute_result",
          "data": {
            "text/plain": [
              "60000"
            ]
          },
          "metadata": {
            "tags": []
          },
          "execution_count": 5
        }
      ]
    },
    {
      "cell_type": "code",
      "metadata": {
        "id": "LYMYMMjpDGdL",
        "colab_type": "code",
        "colab": {}
      },
      "source": [
        "# train the neural network\n",
        "\n",
        "# epochs is the number of times the training data set is used\n",
        "epochs = 5\n",
        "\n",
        "for e in range(epochs):\n",
        "    # go through all records in the training data set\n",
        "    for record in training_data_list:\n",
        "        # split the record by the ',' commas\n",
        "        all_values = record.split(',')\n",
        "        # csv file consist from 0 to 255 values, which we convert from 0.01 to 1\n",
        "        inputs = (numpy.asfarray(all_values[1:]) / 255.0 * 0.99) + 0.01\n",
        "        \n",
        "        # fill targets array with 0.01 probability for all digits, \n",
        "        # except the target digit, which is located in 0-th \n",
        "        # in training function is used to \n",
        "        targets = numpy.zeros(output_nodes) + 0.01\n",
        "        targets[int(all_values[0])] = 0.99\n",
        "        n.train(inputs, targets)\n",
        "        pass\n",
        "    pass"
      ],
      "execution_count": 0,
      "outputs": []
    },
    {
      "cell_type": "code",
      "metadata": {
        "id": "Fg636QGhDGdQ",
        "colab_type": "code",
        "colab": {}
      },
      "source": [
        "# load the mnist test data CSV file into a list\n",
        "test_data_file = open(\"mnist_dataset/mnist_test.csv\", 'r')\n",
        "test_data_list = test_data_file.readlines()\n",
        "test_data_file.close()"
      ],
      "execution_count": 0,
      "outputs": []
    },
    {
      "cell_type": "code",
      "metadata": {
        "id": "ekHAg7EWDGdT",
        "colab_type": "code",
        "colab": {}
      },
      "source": [
        "# test the neural network\n",
        "\n",
        "# scorecard for how well the network performs, initially empty\n",
        "scorecard = []\n",
        "\n",
        "# go through all the records in the test data set\n",
        "for record in test_data_list:\n",
        "    # split the record by the ',' commas\n",
        "    all_values = record.split(',')\n",
        "    # correct answer is first value\n",
        "    correct_label = int(all_values[0])\n",
        "    # scale and shift the inputs\n",
        "    inputs = (numpy.asfarray(all_values[1:]) / 255.0 * 0.99) + 0.01\n",
        "    # test the network\n",
        "    outputs = n.test(inputs)\n",
        "    # the index of the highest value corresponds to the label\n",
        "    label = numpy.argmax(outputs)\n",
        "    # append correct or incorrect to list\n",
        "    if (label == correct_label):\n",
        "        # network's answer matches correct answer, add 1 to scorecard\n",
        "        scorecard.append(1)\n",
        "    else:\n",
        "        # network's answer doesn't match correct answer, add 0 to scorecard\n",
        "        scorecard.append(0)\n",
        "        pass\n",
        "    \n",
        "    pass"
      ],
      "execution_count": 0,
      "outputs": []
    },
    {
      "cell_type": "code",
      "metadata": {
        "id": "xjXl-GkfDGdW",
        "colab_type": "code",
        "colab": {},
        "outputId": "5b8de166-189e-4b6b-e667-30607c32e1d3"
      },
      "source": [
        "# calculate the performance score, the fraction of correct answers\n",
        "scorecard_array = numpy.asarray(scorecard)\n",
        "print (\"performance = \", scorecard_array.sum() / scorecard_array.size)"
      ],
      "execution_count": 0,
      "outputs": [
        {
          "output_type": "stream",
          "text": [
            "performance =  0.9736\n"
          ],
          "name": "stdout"
        }
      ]
    },
    {
      "cell_type": "code",
      "metadata": {
        "id": "mYg1EP3rDGdZ",
        "colab_type": "code",
        "colab": {},
        "outputId": "b30f7103-ee79-408b-e8fd-a51dd8f31be1"
      },
      "source": [
        "len(test_data_list)"
      ],
      "execution_count": 0,
      "outputs": [
        {
          "output_type": "execute_result",
          "data": {
            "text/plain": [
              "10000"
            ]
          },
          "metadata": {
            "tags": []
          },
          "execution_count": 12
        }
      ]
    },
    {
      "cell_type": "code",
      "metadata": {
        "id": "oWuYXwW3DGde",
        "colab_type": "code",
        "colab": {},
        "outputId": "74647603-273b-42fc-e192-4a0378f42032"
      },
      "source": [
        "    record = test_data_list[281];\n",
        "    all_values = record.split(',')\n",
        "    correct_label = int(all_values[0])\n",
        "    inputs = (numpy.asfarray(all_values[1:]) / 255.0 * 0.99) + 0.01\n",
        "    outputs = n.test(inputs)\n",
        "    label = numpy.argmax(outputs)\n",
        "    \n",
        "    image_array = numpy.asfarray(all_values[1:]).reshape((28,28))\n",
        "    matplotlib.pyplot.imshow(image_array, cmap='Greys', interpolation='None')\n",
        "    print(\"Target value is = \", correct_label)\n",
        "    print(\"Output value is = \", label, \"\\n\")\n",
        "    \n",
        "    for index, val in enumerate(outputs.ravel()):\n",
        "        print(\"Probability for being digit\", index, \"is\", \"{0:.0%}\".format(val), \"(\", val, \")\")    "
      ],
      "execution_count": 0,
      "outputs": [
        {
          "output_type": "stream",
          "text": [
            "Target value is =  9\n",
            "Output value is =  9 \n",
            "\n",
            "Probability for being digit 0 is 1% ( 0.006135617975703657 )\n",
            "Probability for being digit 1 is 0% ( 0.0036383640175907867 )\n",
            "Probability for being digit 2 is 1% ( 0.005204710284055683 )\n",
            "Probability for being digit 3 is 0% ( 0.0013491513924802228 )\n",
            "Probability for being digit 4 is 1% ( 0.005706648130977631 )\n",
            "Probability for being digit 5 is 0% ( 0.0003909270816447585 )\n",
            "Probability for being digit 6 is 0% ( 0.004412951901380531 )\n",
            "Probability for being digit 7 is 0% ( 0.003670141799703421 )\n",
            "Probability for being digit 8 is 1% ( 0.008196844860717053 )\n",
            "Probability for being digit 9 is 99% ( 0.9944163818998565 )\n"
          ],
          "name": "stdout"
        },
        {
          "output_type": "display_data",
          "data": {
            "image/png": "[encoded data removed]",
            "text/plain": [
              "<Figure size 432x288 with 1 Axes>"
            ]
          },
          "metadata": {
            "tags": [],
            "needs_background": "light"
          }
        }
      ]
    },
    {
      "cell_type": "code",
      "metadata": {
        "id": "lw0EysSCDGdi",
        "colab_type": "code",
        "colab": {},
        "outputId": "2c063659-4c2f-40d9-e95b-82ddb06757e3"
      },
      "source": [
        "print(n.wih[50,50])"
      ],
      "execution_count": 0,
      "outputs": [
        {
          "output_type": "stream",
          "text": [
            "-0.014910899713675341\n"
          ],
          "name": "stdout"
        }
      ]
    },
    {
      "cell_type": "code",
      "metadata": {
        "id": "5MAkrj4TDGdk",
        "colab_type": "code",
        "colab": {},
        "outputId": "53882b08-e654-4be8-9cd6-21b444dd72c0"
      },
      "source": [
        "print(numpy.array([1,2,3], ndmin=2))"
      ],
      "execution_count": 0,
      "outputs": [
        {
          "output_type": "stream",
          "text": [
            "[[1 2 3]]\n"
          ],
          "name": "stdout"
        }
      ]
    },
    {
      "cell_type": "code",
      "metadata": {
        "id": "VDZk16pkDGdo",
        "colab_type": "code",
        "colab": {},
        "outputId": "105e4999-f43c-483a-a88e-709719c50d39"
      },
      "source": [
        "print(numpy.array([1,2,3], ndmin=2).T)"
      ],
      "execution_count": 0,
      "outputs": [
        {
          "output_type": "stream",
          "text": [
            "[[1]\n",
            " [2]\n",
            " [3]]\n"
          ],
          "name": "stdout"
        }
      ]
    },
    {
      "cell_type": "code",
      "metadata": {
        "id": "09L0zQqJDGds",
        "colab_type": "code",
        "colab": {}
      },
      "source": [
        ""
      ],
      "execution_count": 0,
      "outputs": []
    }
  ]
}