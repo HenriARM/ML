{
  "nbformat": 4,
  "nbformat_minor": 0,
  "metadata": {
    "colab": {
      "name": "linear-regression.ipynb",
      "provenance": [],
      "collapsed_sections": [],
      "authorship_tag": "ABX9TyNTXEq+pr08cwneizbyK3yA",
      "include_colab_link": true
    },
    "kernelspec": {
      "name": "python3",
      "display_name": "Python 3"
    }
  },
  "cells": [
    {
      "cell_type": "markdown",
      "metadata": {
        "id": "view-in-github",
        "colab_type": "text"
      },
      "source": [
        "<a href=\"https://colab.research.google.com/github/HenriARM/ML/blob/master/linear-regression/linear-regression.ipynb\" target=\"_parent\"><img src=\"https://colab.research.google.com/assets/colab-badge.svg\" alt=\"Open In Colab\"/></a>"
      ]
    },
    {
      "cell_type": "markdown",
      "metadata": {
        "id": "vpCMOYZQw6gF",
        "colab_type": "text"
      },
      "source": [
        "Simple linear regression is a type of regression analysis where the number of \n",
        "independent variables is one and there is a linear relationship between the independent(x) and dependent(y) variable. "
      ]
    },
    {
      "cell_type": "code",
      "metadata": {
        "id": "IQLGspj-i63B",
        "colab_type": "code",
        "outputId": "edad120a-2a8c-4f83-8c2a-a03135667237",
        "colab": {
          "base_uri": "https://localhost:8080/",
          "height": 122
        }
      },
      "source": [
        "# Load the Drive helper and mount\n",
        "from google.colab import drive\n",
        "\n",
        "# This will prompt for authorization.\n",
        "drive.mount('/content/drive')"
      ],
      "execution_count": 0,
      "outputs": [
        {
          "output_type": "stream",
          "text": [
            "Go to this URL in a browser: https://accounts.google.com/o/oauth2/auth?client_id=947318989803-6bn6qk8qdgf4n4g3pfee6491hc0brc4i.apps.googleusercontent.com&redirect_uri=urn%3aietf%3awg%3aoauth%3a2.0%3aoob&response_type=code&scope=email%20https%3a%2f%2fwww.googleapis.com%2fauth%2fdocs.test%20https%3a%2f%2fwww.googleapis.com%2fauth%2fdrive%20https%3a%2f%2fwww.googleapis.com%2fauth%2fdrive.photos.readonly%20https%3a%2f%2fwww.googleapis.com%2fauth%2fpeopleapi.readonly\n",
            "\n",
            "Enter your authorization code:\n",
            "··········\n",
            "Mounted at /content/drive\n"
          ],
          "name": "stdout"
        }
      ]
    },
    {
      "cell_type": "code",
      "metadata": {
        "id": "fRDbMv1_jVVO",
        "colab_type": "code",
        "colab": {}
      },
      "source": [
        "# linear regression explained: https://towardsdatascience.com/introduction-to-machine-learning-algorithms-linear-regression-14c4e325882a\n",
        "# training data: https://www.kaggle.com/andonians/random-linear-regression/data\n",
        "\n",
        "import pandas as pd\n",
        "import numpy as np\n",
        "\n",
        "train = pd.read_csv('/content/drive/My Drive/Colab Notebooks/linear-regression/data/train.csv')\n",
        "test = pd.read_csv('/content/drive/My Drive/Colab Notebooks/linear-regression/data/test.csv')"
      ],
      "execution_count": 0,
      "outputs": []
    },
    {
      "cell_type": "code",
      "metadata": {
        "id": "ILEwVs2ejw1F",
        "colab_type": "code",
        "colab": {}
      },
      "source": [
        "x_train = np.array(train['x'])\n",
        "y_train = np.array(train['y'])\n",
        "\n",
        "# there was nan coordinate in dataset\n",
        "x_train = np.delete(x_train, 213).reshape(-1,1)\n",
        "y_train = np.delete(y_train, 213).reshape(-1,1)\n",
        "\n",
        "x_test = np.array(test['x']).reshape(-1,1)\n",
        "y_test = np.array(test['y']).reshape(-1,1)"
      ],
      "execution_count": 0,
      "outputs": []
    },
    {
      "cell_type": "code",
      "metadata": {
        "id": "zk4TBLg_lrw3",
        "colab_type": "code",
        "outputId": "b90d546d-507f-4966-b1a6-93c305e26385",
        "colab": {
          "base_uri": "https://localhost:8080/",
          "height": 187
        }
      },
      "source": [
        "# linear equation: y = k * x + b (predicting straight line which has min mse)\n",
        "# mse - mean square error (used as a cost function)\n",
        "\n",
        "n = 699 # data size\n",
        "lr = 0.0001 # learning rate\n",
        "\n",
        "# initialize coefficients with zeros\n",
        "b = 0\n",
        "k = 0\n",
        "epochs = 0\n",
        "while(epochs < 10):\n",
        "    y_prediction = k * x_train + b\n",
        "    error = y_prediction - y_train\n",
        "    mse = np.sum(error **2)/n\n",
        "    print(mse)\n",
        "    # we found b and k derivatives from cost function (already in brackets)\n",
        "    # and using gradient descent we change coefficient values (since we need to minimize mse, we minus gradient from old value)\n",
        "    b = b - lr * (2/n * np.sum(error))\n",
        "    k = k - lr * (2/n * np.sum(error * x_train))\n",
        "    epochs += 1"
      ],
      "execution_count": 0,
      "outputs": [
        {
          "output_type": "stream",
          "text": [
            "3340.1248261786727\n",
            "375.45468139435286\n",
            "48.419854883577905\n",
            "12.344415320611308\n",
            "8.364908150806476\n",
            "7.925925612296182\n",
            "7.877500809021856\n",
            "7.8721587012638725\n",
            "7.871569075654194\n",
            "7.871503699690063\n"
          ],
          "name": "stdout"
        }
      ]
    },
    {
      "cell_type": "code",
      "metadata": {
        "id": "rTfRFni118pz",
        "colab_type": "code",
        "outputId": "80d49816-da78-4501-a1fa-dc47a8929df9",
        "colab": {
          "base_uri": "https://localhost:8080/",
          "height": 609
        }
      },
      "source": [
        "import matplotlib.pyplot as plt\n",
        "from sklearn.metrics import r2_score\n",
        "\n",
        "y_prediction = k * x_test + b\n",
        "print('Score:',r2_score(y_test,y_prediction))\n",
        "\n",
        "y_plot = []\n",
        "for i in range(100):\n",
        "    y_plot.append(k * i + b)\n",
        "plt.figure(figsize=(10,10))\n",
        "plt.scatter(x_test,y_test,color='red',label='GT')\n",
        "plt.plot(range(len(y_plot)),y_plot,color='black',label = 'pred')\n",
        "plt.legend()\n",
        "plt.show()"
      ],
      "execution_count": 0,
      "outputs": [
        {
          "output_type": "stream",
          "text": [
            "Score: 0.9887714997313881\n"
          ],
          "name": "stdout"
        },
        {
          "output_type": "display_data",
          "data": {
            "image/png": "[encoded data removed]",
            "text/plain": [
              "<Figure size 720x720 with 1 Axes>"
            ]
          },
          "metadata": {
            "tags": []
          }
        }
      ]
    },
    {
      "cell_type": "code",
      "metadata": {
        "id": "NQ7DnUWs4v4J",
        "colab_type": "code",
        "outputId": "dfed8970-517b-4dc2-f41a-cf2938eb8bc8",
        "colab": {
          "base_uri": "https://localhost:8080/",
          "height": 34
        }
      },
      "source": [
        "from sklearn.linear_model import LinearRegression \n",
        "from sklearn.metrics import r2_score\n",
        "\n",
        "r = LinearRegression(normalize=True)\n",
        "r.fit(x_train,y_train)\n",
        "print('Score: ',r2_score(y_test,r.predict(x_test)))"
      ],
      "execution_count": 0,
      "outputs": [
        {
          "output_type": "stream",
          "text": [
            "Score:  0.9888014444327563\n"
          ],
          "name": "stdout"
        }
      ]
    }
  ]
}