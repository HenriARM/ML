{
  "nbformat": 4,
  "nbformat_minor": 0,
  "metadata": {
    "colab": {
      "name": "data-cleaning.ipynb",
      "provenance": [],
      "collapsed_sections": [],
      "authorship_tag": "ABX9TyPfxvU51hVFUnvPW8k4G4wG",
      "include_colab_link": true
    },
    "kernelspec": {
      "name": "python3",
      "display_name": "Python 3"
    }
  },
  "cells": [
    {
      "cell_type": "markdown",
      "metadata": {
        "id": "view-in-github",
        "colab_type": "text"
      },
      "source": [
        "<a href=\"https://colab.research.google.com/github/HenriARM/ML/blob/master/data-cleaning/data-cleaning.ipynb\" target=\"_parent\"><img src=\"https://colab.research.google.com/assets/colab-badge.svg\" alt=\"Open In Colab\"/></a>"
      ]
    },
    {
      "cell_type": "markdown",
      "metadata": {
        "id": "U-9NuEQxe34y",
        "colab_type": "text"
      },
      "source": [
        "Advancing Pandas skills, cleaning data and running different regression algorithms"
      ]
    },
    {
      "cell_type": "code",
      "metadata": {
        "id": "eZMpxBg5ckoZ",
        "colab_type": "code",
        "colab": {
          "base_uri": "https://localhost:8080/",
          "height": 122
        },
        "outputId": "1719dab2-5fbe-45d5-e932-76ff975151a7"
      },
      "source": [
        "# Load the Drive helper and mount\n",
        "from google.colab import drive\n",
        "\n",
        "# This will prompt for authorization.\n",
        "drive.mount('/content/drive')"
      ],
      "execution_count": 1,
      "outputs": [
        {
          "output_type": "stream",
          "text": [
            "Go to this URL in a browser: https://accounts.google.com/o/oauth2/auth?client_id=947318989803-6bn6qk8qdgf4n4g3pfee6491hc0brc4i.apps.googleusercontent.com&redirect_uri=urn%3aietf%3awg%3aoauth%3a2.0%3aoob&response_type=code&scope=email%20https%3a%2f%2fwww.googleapis.com%2fauth%2fdocs.test%20https%3a%2f%2fwww.googleapis.com%2fauth%2fdrive%20https%3a%2f%2fwww.googleapis.com%2fauth%2fdrive.photos.readonly%20https%3a%2f%2fwww.googleapis.com%2fauth%2fpeopleapi.readonly\n",
            "\n",
            "Enter your authorization code:\n",
            "··········\n",
            "Mounted at /content/drive\n"
          ],
          "name": "stdout"
        }
      ]
    },
    {
      "cell_type": "code",
      "metadata": {
        "id": "HSliw4ngciwj",
        "colab_type": "code",
        "colab": {}
      },
      "source": [
        "import pandas as pd\n",
        "import matplotlib.pyplot as plt\n",
        "from sklearn.model_selection import train_test_split\n",
        "from sklearn.preprocessing import StandardScaler\n",
        "from sklearn.metrics import mean_squared_error, mean_absolute_error, r2_score\n",
        "from sklearn.model_selection import GridSearchCV\n",
        "from sklearn.linear_model import LinearRegression\n",
        "from sklearn.ensemble import RandomForestRegressor"
      ],
      "execution_count": 0,
      "outputs": []
    },
    {
      "cell_type": "code",
      "metadata": {
        "id": "50Pdz3JncXW3",
        "colab_type": "code",
        "colab": {}
      },
      "source": [
        "# drop columns which won't be used\n",
        "def drop_columns(data):\n",
        "    remove_list = ['Unnamed: 0', 'info', 'address', 'z_address', 'longitude', 'latitude',\n",
        "                   'lastsolddate', 'zipcode', 'zpid', 'usecode', 'zestimate', 'zindexvalue']\n",
        "    data = data.drop(remove_list, axis=1)\n",
        "    return data\n",
        "\n",
        "\n",
        "# split data for training and for tests\n",
        "def split_data(data):\n",
        "    y = data['lastsoldprice']\n",
        "    x = data.drop('lastsoldprice', axis=1)\n",
        "    return train_test_split(x, y, test_size=0.2, shuffle=False)\n",
        "\n",
        "\n",
        "def train(algorithm, grid_params, x_train, x_test, y_train, y_test):\n",
        "    regression_model = GridSearchCV(algorithm, grid_params, cv=5, n_jobs=-1, verbose=1)\n",
        "    regression_model.fit(x_train, y_train)\n",
        "    y_pred = regression_model.predict(x_test)\n",
        "    # evaluate results\n",
        "    print(\"R2: \\t\", r2_score(y_test, y_pred))\n",
        "    print(\"MSE: \\t\", mean_squared_error(y_test, y_pred))\n",
        "    print(\"MAE: \\t\", mean_absolute_error(y_test, y_pred))\n",
        "    "
      ],
      "execution_count": 0,
      "outputs": []
    },
    {
      "cell_type": "code",
      "metadata": {
        "id": "jbwTvucOdLTE",
        "colab_type": "code",
        "colab": {
          "base_uri": "https://localhost:8080/",
          "height": 534
        },
        "outputId": "36fa26d7-eba5-4998-81c4-25f064f10029"
      },
      "source": [
        "# read data\n",
        "housing = pd.read_csv(\"/content/drive/My Drive/Colab Notebooks/data-cleaning/data.csv\")\n",
        "\n",
        "# drop suspicious data\n",
        "housing = housing.drop([1618]) \\\n",
        "    .drop([3405]).drop([10652]).drop([954]).drop([11136]) \\\n",
        "    .drop([5103]).drop([916]).drop([10967]).drop([7383]) \\\n",
        "    .drop([1465]).drop([8967]) \\\n",
        "    .drop([8300]).drop([4997])\n",
        "\n",
        "# print changes\n",
        "x = housing['finishedsqft']\n",
        "y = housing['lastsoldprice']\n",
        "plt.scatter(x, y)\n",
        "plt.show()\n",
        "\n",
        "# create copy of data\n",
        "housing_copy = housing.copy()\n",
        "\n",
        "housing = drop_columns(housing)\n",
        "\n",
        "# create one-hot encoding for neighborhood column for model training\n",
        "one_hot = pd.get_dummies(housing['neighborhood'])\n",
        "housing = housing.drop('neighborhood', axis=1)\n",
        "\n",
        "# standardize features by removing the mean and scaling to unit variance\n",
        "scaler = StandardScaler()\n",
        "scaler.fit(housing)\n",
        "housing[housing.columns] = scaler.transform(housing[housing.columns])\n",
        "\n",
        "# add to standardized data one-hot encoded feature\n",
        "housing = housing.join(one_hot)\n",
        "\n",
        "# split\n",
        "x_train, x_test, y_train, y_test = split_data(housing)\n",
        "housing_split = (x_train, x_test, y_train, y_test)\n",
        "# housing_split = (split_data(housing))\n",
        "\n",
        "# train\n",
        "train(LinearRegression(), {}, *housing_split)\n",
        "forest_params = {'n_estimators': [1000], 'max_depth': [None], 'min_samples_split': [2]}\n",
        "train(RandomForestRegressor(), forest_params, *housing_split)"
      ],
      "execution_count": 4,
      "outputs": [
        {
          "output_type": "display_data",
          "data": {
            "image/png": "[encoded data removed]",
            "text/plain": [
              "<Figure size 432x288 with 1 Axes>"
            ]
          },
          "metadata": {
            "tags": [],
            "needs_background": "light"
          }
        },
        {
          "output_type": "stream",
          "text": [
            "Fitting 5 folds for each of 1 candidates, totalling 5 fits\n"
          ],
          "name": "stdout"
        },
        {
          "output_type": "stream",
          "text": [
            "[Parallel(n_jobs=-1)]: Using backend LokyBackend with 2 concurrent workers.\n",
            "[Parallel(n_jobs=-1)]: Done   5 out of   5 | elapsed:    1.5s finished\n",
            "[Parallel(n_jobs=-1)]: Using backend LokyBackend with 2 concurrent workers.\n"
          ],
          "name": "stderr"
        },
        {
          "output_type": "stream",
          "text": [
            "R2: \t 0.4927482150686453\n",
            "MSE: \t 0.3390224246997096\n",
            "MAE: \t 0.3963788365619881\n",
            "Fitting 5 folds for each of 1 candidates, totalling 5 fits\n"
          ],
          "name": "stdout"
        },
        {
          "output_type": "stream",
          "text": [
            "/usr/local/lib/python3.6/dist-packages/joblib/externals/loky/process_executor.py:706: UserWarning: A worker stopped while some jobs were given to the executor. This can be caused by a too short worker timeout or by a memory leak.\n",
            "  \"timeout or by a memory leak.\", UserWarning\n",
            "[Parallel(n_jobs=-1)]: Done   5 out of   5 | elapsed:  4.2min finished\n"
          ],
          "name": "stderr"
        },
        {
          "output_type": "stream",
          "text": [
            "R2: \t 0.5476855634695915\n",
            "MSE: \t 0.30230497270694434\n",
            "MAE: \t 0.33769041087058826\n"
          ],
          "name": "stdout"
        }
      ]
    }
  ]
}