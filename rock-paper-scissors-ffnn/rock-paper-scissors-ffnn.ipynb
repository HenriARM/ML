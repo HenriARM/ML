{
  "nbformat": 4,
  "nbformat_minor": 0,
  "metadata": {
    "colab": {
      "name": "rock-paper-scissors-ffnn.ipynb",
      "provenance": [],
      "collapsed_sections": [],
      "include_colab_link": true
    },
    "kernelspec": {
      "name": "python3",
      "display_name": "Python 3"
    }
  },
  "cells": [
    {
      "cell_type": "markdown",
      "metadata": {
        "id": "view-in-github",
        "colab_type": "text"
      },
      "source": [
        "<a href=\"https://colab.research.google.com/github/HenriARM/ML/blob/master/rock-paper-scissors-ffnn/rock-paper-scissors-ffnn.ipynb\" target=\"_parent\"><img src=\"https://colab.research.google.com/assets/colab-badge.svg\" alt=\"Open In Colab\"/></a>"
      ]
    },
    {
      "cell_type": "code",
      "metadata": {
        "id": "G0uAGrzN_qWk",
        "colab_type": "code",
        "colab": {}
      },
      "source": [
        "!pip install tensorflow==2.0.0\n",
        "!pip install numpy"
      ],
      "execution_count": 0,
      "outputs": []
    },
    {
      "cell_type": "code",
      "metadata": {
        "id": "jYlQHV1PANfW",
        "colab_type": "code",
        "colab": {}
      },
      "source": [
        "import tensorflow as tf\n",
        "import numpy as np\n",
        "from tensorflow import keras\n",
        "from tensorflow.keras.layers import Dense, Activation, Reshape"
      ],
      "execution_count": 0,
      "outputs": []
    },
    {
      "cell_type": "code",
      "metadata": {
        "id": "TkfGzR2mAXNA",
        "colab_type": "code",
        "colab": {}
      },
      "source": [
        "# Input data: array of 2 opponents with  states 0- rock 1-scisors 2-paper\n",
        "learn_input = np.array([\n",
        "  [[1,0,0], [1,0,0]],\n",
        "  [[0,1,0], [0,1,0]],\n",
        "  [[0,0,1], [0,0,1]],\n",
        "  [[1,0,0], [0,1,0]],\n",
        "  [[1,0,0], [0,0,1]],\n",
        "  [[0,1,0], [0,0,1]]\n",
        "])\n",
        "learn_output = np.array([[1,1],[1,1],[1,1],[1,0],[0,1],[1,0]])"
      ],
      "execution_count": 0,
      "outputs": []
    },
    {
      "cell_type": "code",
      "metadata": {
        "id": "QhJUKOxJC6yP",
        "colab_type": "code",
        "outputId": "7edcc3bb-fc81-4f0b-db86-21af81169b12",
        "colab": {
          "base_uri": "https://localhost:8080/",
          "height": 323
        }
      },
      "source": [
        "model = keras.models.Sequential([\n",
        "  Reshape((6,), input_shape=(2, 3,)),\n",
        "  Dense(12),\n",
        "  Activation('sigmoid'),\n",
        "  Dense(2),\n",
        "  Activation('sigmoid')\n",
        "])\n",
        "model.compile(optimizer='adam', loss='mean_squared_error', metrics=['accuracy'])\n",
        "model.fit(learn_input, learn_output, epochs=10000, batch_size=1, verbose=0)\n",
        "model.summary()"
      ],
      "execution_count": 0,
      "outputs": [
        {
          "output_type": "stream",
          "text": [
            "Model: \"sequential_62\"\n",
            "_________________________________________________________________\n",
            "Layer (type)                 Output Shape              Param #   \n",
            "=================================================================\n",
            "reshape_23 (Reshape)         (None, 6)                 0         \n",
            "_________________________________________________________________\n",
            "dense_46 (Dense)             (None, 12)                84        \n",
            "_________________________________________________________________\n",
            "activation_46 (Activation)   (None, 12)                0         \n",
            "_________________________________________________________________\n",
            "dense_47 (Dense)             (None, 2)                 26        \n",
            "_________________________________________________________________\n",
            "activation_47 (Activation)   (None, 2)                 0         \n",
            "=================================================================\n",
            "Total params: 110\n",
            "Trainable params: 110\n",
            "Non-trainable params: 0\n",
            "_________________________________________________________________\n"
          ],
          "name": "stdout"
        }
      ]
    },
    {
      "cell_type": "code",
      "metadata": {
        "id": "5jMVTq_BC-eE",
        "colab_type": "code",
        "outputId": "41d88448-afad-4571-e842-6032defed563",
        "colab": {
          "base_uri": "https://localhost:8080/",
          "height": 323
        }
      },
      "source": [
        "test_input = np.array([\n",
        "  [[0,1,0], [1,0,0]],\n",
        "  [[0,0,1], [1,0,0]],\n",
        "  [[0,0,1], [0,1,0]]\n",
        "])\n",
        "\n",
        "test_output = np.array([[0,1],[1,0],[0,1]])\n",
        "\n",
        "print(model.predict(np.array(learn_input, 'float32')))\n",
        "print(learn_output)\n",
        "\n",
        "print(model.predict(np.array(test_input, 'float32')))\n",
        "print(test_output)"
      ],
      "execution_count": 0,
      "outputs": [
        {
          "output_type": "stream",
          "text": [
            "[[9.9995816e-01 9.9999869e-01]\n",
            " [1.0000000e+00 9.9990296e-01]\n",
            " [9.9995834e-01 9.9999857e-01]\n",
            " [9.9996513e-01 7.5966120e-05]\n",
            " [7.9007143e-05 9.9990332e-01]\n",
            " [9.9996400e-01 9.4256742e-05]]\n",
            "[[1 1]\n",
            " [1 1]\n",
            " [1 1]\n",
            " [1 0]\n",
            " [0 1]\n",
            " [1 0]]\n",
            "[[1.         0.9999565 ]\n",
            " [1.         1.        ]\n",
            " [1.         0.99996257]]\n",
            "[[0 1]\n",
            " [1 0]\n",
            " [0 1]]\n"
          ],
          "name": "stdout"
        }
      ]
    }
  ]
}