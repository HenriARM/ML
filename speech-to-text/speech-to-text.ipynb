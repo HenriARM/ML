{
  "nbformat": 4,
  "nbformat_minor": 0,
  "metadata": {
    "colab": {
      "name": "speech-to-text.ipynb",
      "provenance": [],
      "collapsed_sections": [],
      "authorship_tag": "ABX9TyM/jb2q2vwbAyF5nqFzM5ta",
      "include_colab_link": true
    },
    "kernelspec": {
      "name": "python3",
      "display_name": "Python 3"
    }
  },
  "cells": [
    {
      "cell_type": "markdown",
      "metadata": {
        "id": "view-in-github",
        "colab_type": "text"
      },
      "source": [
        "<a href=\"https://colab.research.google.com/github/HenriARM/ML/blob/master/speech-to-text/speech-to-text.ipynb\" target=\"_parent\"><img src=\"https://colab.research.google.com/assets/colab-badge.svg\" alt=\"Open In Colab\"/></a>"
      ]
    },
    {
      "cell_type": "code",
      "metadata": {
        "id": "e2gpxFFFPyiz",
        "colab_type": "code",
        "outputId": "e8c2f141-e406-4906-81b2-cc5144d22c2c",
        "colab": {
          "base_uri": "https://localhost:8080/",
          "height": 34
        }
      },
      "source": [
        "# Load the Drive helper and mount\n",
        "from google.colab import drive\n",
        "\n",
        "# This will prompt for authorization.\n",
        "drive.mount('/content/drive')"
      ],
      "execution_count": 0,
      "outputs": [
        {
          "output_type": "stream",
          "text": [
            "Drive already mounted at /content/drive; to attempt to forcibly remount, call drive.mount(\"/content/drive\", force_remount=True).\n"
          ],
          "name": "stdout"
        }
      ]
    },
    {
      "cell_type": "code",
      "metadata": {
        "id": "PBcrEVR6RcIg",
        "colab_type": "code",
        "colab": {}
      },
      "source": [
        "# !cp \"/content/drive/My Drive/Colab Notebooks/speech-to-text/models/trie\" \"trie\"\n",
        "# !cp \"/content/drive/My Drive/Colab Notebooks/speech-to-text/models/output_graph.pbmm\" \"output_graph.pbmm\"\n",
        "# !cp \"/content/drive/My Drive/Colab Notebooks/speech-to-text/models/output_graph.pb\" \"output_graph.pb\"\n",
        "# !cp \"/content/drive/My Drive/Colab Notebooks/speech-to-text/models/lm.binary\" \"lm.binary\"\n",
        "\n",
        "# !cp \"/content/drive/My Drive/Colab Notebooks/speech-to-text/experience_proves_this.wav\" \"audio.wav\""
      ],
      "execution_count": 0,
      "outputs": []
    },
    {
      "cell_type": "code",
      "metadata": {
        "id": "_TzsKJOSVGEZ",
        "colab_type": "code",
        "outputId": "fd18c8ff-055a-4a27-9902-96b5d16b96cd",
        "colab": {
          "base_uri": "https://localhost:8080/",
          "height": 564
        }
      },
      "source": [
        "!deepspeech --model output_graph.pbmm --lm lm.binary --trie trie --audio audio2.wav"
      ],
      "execution_count": 0,
      "outputs": [
        {
          "output_type": "stream",
          "text": [
            "Loading model from file output_graph.pbmm\n",
            "TensorFlow: v1.14.0-21-ge77504a\n",
            "DeepSpeech: v0.6.1-0-g3df20fe\n",
            "2020-02-01 17:00:32.822563: I tensorflow/core/platform/cpu_feature_guard.cc:142] Your CPU supports instructions that this TensorFlow binary was not compiled to use: AVX2 FMA\n",
            "Loaded model in 0.00924s.\n",
            "Loading language model from files lm.binary trie\n",
            "Loaded language model in 0.000252s.\n",
            "Warning: original sample rate (44100) is different than 16000hz. Resampling might produce erratic speech recognition.\n",
            "Traceback (most recent call last):\n",
            "  File \"/usr/local/lib/python3.6/dist-packages/deepspeech/client.py\", line 24, in convert_samplerate\n",
            "    output = subprocess.check_output(shlex.split(sox_cmd), stderr=subprocess.PIPE)\n",
            "  File \"/usr/lib/python3.6/subprocess.py\", line 356, in check_output\n",
            "    **kwargs).stdout\n",
            "  File \"/usr/lib/python3.6/subprocess.py\", line 423, in run\n",
            "    with Popen(*popenargs, **kwargs) as process:\n",
            "  File \"/usr/lib/python3.6/subprocess.py\", line 729, in __init__\n",
            "    restore_signals, start_new_session)\n",
            "  File \"/usr/lib/python3.6/subprocess.py\", line 1364, in _execute_child\n",
            "    raise child_exception_type(errno_num, err_msg, err_filename)\n",
            "FileNotFoundError: [Errno 2] No such file or directory: 'sox': 'sox'\n",
            "\n",
            "During handling of the above exception, another exception occurred:\n",
            "\n",
            "Traceback (most recent call last):\n",
            "  File \"/usr/local/bin/deepspeech\", line 8, in <module>\n",
            "    sys.exit(main())\n",
            "  File \"/usr/local/lib/python3.6/dist-packages/deepspeech/client.py\", line 130, in main\n",
            "    fs, audio = convert_samplerate(args.audio, desired_sample_rate)\n",
            "  File \"/usr/local/lib/python3.6/dist-packages/deepspeech/client.py\", line 28, in convert_samplerate\n",
            "    raise OSError(e.errno, 'SoX not found, use {}hz files or install it: {}'.format(desired_sample_rate, e.strerror))\n",
            "FileNotFoundError: [Errno 2] SoX not found, use 16000hz files or install it: No such file or directory: 'sox'\n"
          ],
          "name": "stdout"
        }
      ]
    },
    {
      "cell_type": "code",
      "metadata": {
        "id": "crEZwYV_54hi",
        "colab_type": "code",
        "colab": {}
      },
      "source": [
        "!pip install --upgrade google-api-python-client"
      ],
      "execution_count": 0,
      "outputs": []
    },
    {
      "cell_type": "code",
      "metadata": {
        "id": "ZYyXfGg16N2i",
        "colab_type": "code",
        "colab": {}
      },
      "source": [
        "import google.cloud\n",
        "dir(google.cloud)"
      ],
      "execution_count": 0,
      "outputs": []
    },
    {
      "cell_type": "code",
      "metadata": {
        "id": "bu7CJuSs7Oe4",
        "colab_type": "code",
        "colab": {}
      },
      "source": [
        "!pip install --upgrade google-cloud-speech"
      ],
      "execution_count": 0,
      "outputs": []
    },
    {
      "cell_type": "code",
      "metadata": {
        "id": "kns1Qtwd8kCd",
        "colab_type": "code",
        "colab": {}
      },
      "source": [
        "# import io\n",
        "# import os\n",
        "\n",
        "# # Imports the Google Cloud client library\n",
        "# from google.cloud import speech\n",
        "# from google.cloud.speech import enums\n",
        "# from google.cloud.speech import types\n",
        "\n",
        "# # Instantiates a client\n",
        "# client = speech.SpeechClient()\n",
        "\n",
        "# # The name of the audio file to transcribe\n",
        "# file_name = os.path.join('audio2.wav')\n",
        "\n",
        "# # Loads the audio into memory\n",
        "# with io.open(file_name, 'rb') as audio_file:\n",
        "#     content = audio_file.read()\n",
        "#     audio = types.RecognitionAudio(content=content)\n",
        "\n",
        "# config = types.RecognitionConfig(\n",
        "#     encoding=enums.RecognitionConfig.AudioEncoding.LINEAR16,\n",
        "#     audio_channel_count=2,\n",
        "#     language_code='en-US')\n",
        "\n",
        "# # Detects speech in the audio file\n",
        "# response = client.recognize(config, audio)\n",
        "\n",
        "# for result in response.results:\n",
        "#     print('Transcript: {}'.format(result.alternatives[0].transcript))"
      ],
      "execution_count": 0,
      "outputs": []
    },
    {
      "cell_type": "code",
      "metadata": {
        "id": "6stk7Hj3ocvD",
        "colab_type": "code",
        "colab": {}
      },
      "source": [
        "!apt install ffmpeg"
      ],
      "execution_count": 0,
      "outputs": []
    },
    {
      "cell_type": "code",
      "metadata": {
        "id": "XozJKmbi4V7g",
        "colab_type": "code",
        "colab": {}
      },
      "source": [
        "!ffmpeg"
      ],
      "execution_count": 0,
      "outputs": []
    }
  ]
}